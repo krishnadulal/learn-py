{
 "cells": [
  {
   "cell_type": "code",
   "execution_count": 1,
   "metadata": {},
   "outputs": [],
   "source": [
    "import numpy as np\n",
    "from PIL import Image, ImageDraw, ImageFont"
   ]
  },
  {
   "cell_type": "code",
   "execution_count": 2,
   "metadata": {},
   "outputs": [],
   "source": [
    "# 生成画布\n",
    "canve = np.ndarray(shape=(400, 640, 4), dtype=np.uint8)\n",
    "# 这里, shape 的最后一个因子总是为 4, 因为 rgb 三种颜色再加上 alpha 通道\n",
    "# 由于想象多维数组时, 总是认为内部是横向排列的, 所以认为高度为 400, 宽度为 640"
   ]
  },
  {
   "cell_type": "code",
   "execution_count": 3,
   "metadata": {},
   "outputs": [],
   "source": [
    "# 将画布初始化, 全部设置为白色 rgb(255, 255, 255), alpha=255 (不透明)\n",
    "canve[:,:,:] = 255"
   ]
  },
  {
   "cell_type": "code",
   "execution_count": 4,
   "metadata": {},
   "outputs": [],
   "source": [
    "# PIL 能从数组创建图像\n",
    "image = Image.fromarray(canve)"
   ]
  },
  {
   "cell_type": "code",
   "execution_count": 5,
   "metadata": {},
   "outputs": [],
   "source": [
    "# 从 Image 对象创建一个可编辑的 ImageDraw 对象\n",
    "drawer = ImageDraw.Draw(image)"
   ]
  },
  {
   "cell_type": "code",
   "execution_count": 6,
   "metadata": {},
   "outputs": [],
   "source": [
    "# 绘制点 (只有一个像素, 太小了, 不如用小圆填充)\n",
    "drawer.point((500, 300), fill=\"red\")"
   ]
  },
  {
   "cell_type": "code",
   "execution_count": 7,
   "metadata": {},
   "outputs": [],
   "source": [
    "# 绘制线段\n",
    "drawer.line((0, 320, 640, 360), fill=(0, 0, 0, 255), width=1)"
   ]
  },
  {
   "cell_type": "code",
   "execution_count": 8,
   "metadata": {},
   "outputs": [],
   "source": [
    "# 绘制圆弧\n",
    "drawer.arc((200, 200, 300, 300), 0, 120, fill=\"#444444\", width=3)"
   ]
  },
  {
   "cell_type": "code",
   "execution_count": 9,
   "metadata": {},
   "outputs": [],
   "source": [
    "# 绘制圆\n",
    "drawer.ellipse((100, 0, 200, 100), outline=\"#000\")\n",
    "# 绘制椭圆\n",
    "drawer.ellipse((200, 0, 350, 100), outline=\"#000\")"
   ]
  },
  {
   "cell_type": "code",
   "execution_count": 10,
   "metadata": {},
   "outputs": [],
   "source": [
    "# 绘制饼图\n",
    "drawer.pieslice((400, 0, 500, 100), -90,120, fill=\"#244442\", outline=\"#000\", width=3)"
   ]
  },
  {
   "cell_type": "code",
   "execution_count": 11,
   "metadata": {},
   "outputs": [],
   "source": [
    "# 绘制弦(弓形图)\n",
    "drawer.chord((500, 0, 600, 100), -30, 60, fill=\"#782287\")"
   ]
  },
  {
   "cell_type": "code",
   "execution_count": 12,
   "metadata": {},
   "outputs": [],
   "source": [
    "# 绘制矩形\n",
    "drawer.rectangle((100, 100, 200, 200), fill=\"#000\", outline=\"blue\", width=3)"
   ]
  },
  {
   "cell_type": "code",
   "execution_count": 13,
   "metadata": {},
   "outputs": [],
   "source": [
    "# 绘制多边形\n",
    "drawer.polygon((0, 0, 50, 50, 50, 0), \"#444444\", \"#000\")"
   ]
  },
  {
   "cell_type": "code",
   "execution_count": 14,
   "metadata": {},
   "outputs": [],
   "source": [
    "image.show()"
   ]
  }
 ],
 "metadata": {
  "kernelspec": {
   "display_name": "Python 3",
   "language": "python",
   "name": "python3"
  },
  "language_info": {
   "codemirror_mode": {
    "name": "ipython",
    "version": 3
   },
   "file_extension": ".py",
   "mimetype": "text/x-python",
   "name": "python",
   "nbconvert_exporter": "python",
   "pygments_lexer": "ipython3",
   "version": "3.7.1"
  }
 },
 "nbformat": 4,
 "nbformat_minor": 2
}
